{
 "cells": [
  {
   "attachments": {},
   "cell_type": "markdown",
   "metadata": {
    "id": "6DjNbXa-VC9M"
   },
   "source": [
    "<h1 align=\"center\">Mathematical Methods In Engineering - 25872</h1>\n",
    "<h4 align=\"center\">Dr. Amiri</h4>\n",
    "<h4 align=\"center\">Sharif University of Technology, Fall 2023</h4>\n",
    "<h4 align=\"center\">Python Assignment 1</h4>\n",
    "<h4 align=\"center\">feel free to ask your questions via telegram,\n",
    "\n",
    "questions 1,4 : @BeNameBalasari and questions 2,3,5 : @maahmoradi"
   ]
  },
  {
   "attachments": {},
   "cell_type": "markdown",
   "metadata": {},
   "source": [
    "You should write your code in the <font color='green'>Code Cell</font> and then run the <font color='green'>Evaluation Cell</font> to check the output of your code.<br>\n",
    "<font color='red'>**Please do not edit the existing codes.**</font>"
   ]
  },
  {
   "attachments": {},
   "cell_type": "markdown",
   "metadata": {
    "id": "bggG3YqIVC9U"
   },
   "source": [
    "## 1. Introduction to matrices\n",
    "In this question, we want to get familiar with performing simple matrix operations and obtaining special features of matrices in Python <br>\n",
    "#### 1-1-  Vector P-Norm\n",
    " Let $p\\geq 1$  be  a real   number . The  p-norm ( also called \n",
    "$\\ell ^{p}$-norm) of  vector \n",
    "${\\displaystyle \\mathbf {x} =(x_{1},\\ldots ,x_{n})}$  is : \n",
    "${\\displaystyle \\|\\mathbf {x} \\|_{p}:=\\left(\\sum _{i=1}^{n}\\left|x_{i}\\right|^{p}\\right)^{1/p}}$ and\n",
    "${\\displaystyle \\|\\mathbf {x} \\|_{\\infty}:=max(|x_1| , |x_2| , \\cdots ,|x_n|)}$ \n",
    "> Write a function that takes a vector and p as input and gives p-norm as output then use it to calculate the norm-3 of the  following vector ( if the p is np.inf the function should give the infinity norm of the matrix ) :\n",
    "$$\n",
    "x = \\left(\\begin{array}{cc} \n",
    "-3.0\\\\ 1.0 \\\\2.0\n",
    "\\end{array}\\right)\n",
    "$$\n",
    "> then use np.linalg.norm to check your answer "
   ]
  },
  {
   "cell_type": "code",
   "execution_count": 1,
   "metadata": {},
   "outputs": [],
   "source": [
    "# import required packages\n",
    "import numpy as np\n",
    "import math"
   ]
  },
  {
   "cell_type": "code",
   "execution_count": 2,
   "metadata": {
    "id": "ZzFnxtOIVC9W"
   },
   "outputs": [
    {
     "name": "stdout",
     "output_type": "stream",
     "text": [
      "3.3019272488946263\n",
      "3.3019272488946263\n"
     ]
    }
   ],
   "source": [
    "# Code cell\n",
    "def pnorm(x, p):\n",
    "    norm_p=0\n",
    "    for i in x:\n",
    "        norm_p+=abs(i)**p\n",
    "    norm_p=math.pow(norm_p,1/3)\n",
    "    return norm_p\n",
    "x=[-3,1,2]\n",
    "p=3\n",
    "print(pnorm(x,p))\n",
    "print(np.linalg.norm(x,p))"
   ]
  },
  {
   "attachments": {},
   "cell_type": "markdown",
   "metadata": {},
   "source": [
    "#### 1-2- Matrix Norm\n",
    " The \n",
    " operator  norm of matrix $ \\mathbf{A}  $ is : \n",
    "${\\displaystyle \\|\\mathbf {A} \\|:=\\max\\limits_{x\\neq 0}\\left(\\frac{||Ax||}{||x||}\\right)}$\n",
    "\n",
    "and  The Frobenius  norm  is defined  so \n",
    "that   for  every  square  matrix $ \\mathbf{A} $ : ${\\displaystyle \\|\\mathbf {A} \\|_F:=\\left(\\sum_{i,j=1}^{n}(|a_{ij}|^2)\\right)^\\frac{1}{2}}$\n",
    "\n",
    "> Write a function that takes a Matrix  as input and gives frobenius norm as output then use it to calculate the norm of the  following Matrix :\n",
    "$$\n",
    "A = \\begin{bmatrix}\n",
    "    7 & 5 & 1\\\\\n",
    "    1 & 7 & 1\\\\\n",
    "    5 & 5 & 7\n",
    "\\end{bmatrix}\n",
    "$$\n",
    "> then use np.linalg.norm to check your answer and use it to calculate the operator norm of A "
   ]
  },
  {
   "cell_type": "code",
   "execution_count": 3,
   "metadata": {},
   "outputs": [
    {
     "name": "stdout",
     "output_type": "stream",
     "text": [
      "15.0\n"
     ]
    },
    {
     "data": {
      "text/plain": [
       "15.0"
      ]
     },
     "execution_count": 3,
     "metadata": {},
     "output_type": "execute_result"
    }
   ],
   "source": [
    "def fnorm(A):\n",
    "    norm_2=0\n",
    "    for i in A:\n",
    "        for j in i:\n",
    "            norm_2+=abs(j)**2\n",
    "    norm_2=math.pow(norm_2,1/2)\n",
    "    return norm_2\n",
    "A=[[7,5,1],[1,7,1],[5,5,7]]\n",
    "print(fnorm(A))\n",
    "np.linalg.norm(A)"
   ]
  },
  {
   "attachments": {},
   "cell_type": "markdown",
   "metadata": {},
   "source": [
    "#### 1-3- Matrix Determinant And Matrix inverse \n",
    "Laplace expansion expresses the determinant of a matrix \n",
    "A recursively in terms of determinants of smaller matrices, known as its minors. The minor \n",
    ", $M_{i,j}$ is defined to be the determinant of the \n",
    "${\\displaystyle (n-1)\\times (n-1)}$ matrix that results from \n",
    "A by removing the \n",
    "i-th row and the \n",
    "j-th column. The expression \n",
    "${\\displaystyle (-1)^{i+j}M_{i,j}}$  is known as a cofactor. For every \n",
    "i, one has the equality :\n",
    "$$\n",
    "det(\\mathbf{A})=\\sum_{j=1}^n\\left((-1)^{i+j}a_{ij}M_{ij}\\right)\n",
    "$$\n",
    "> Write a function that takes a Matrix  as input and gives Determinant as output then use it to calculate the Determinant of the  following Matrix :\n",
    "$$\n",
    "A = \\begin{bmatrix}\n",
    "    7 & 5 & 1\\\\\n",
    "    1 & 7 & 1\\\\\n",
    "    5 & 5 & 7\n",
    "\\end{bmatrix}\n",
    "$$\n",
    "> then use np.linalg.det to check your answer "
   ]
  },
  {
   "cell_type": "code",
   "execution_count": 4,
   "metadata": {},
   "outputs": [
    {
     "name": "stdout",
     "output_type": "stream",
     "text": [
      "268\n",
      "267.99999999999994\n"
     ]
    }
   ],
   "source": [
    "# Code cell\n",
    "def det(A):\n",
    "    \n",
    "    if(len(A[0])==1):\n",
    "        return A[0][0]\n",
    "    Det = 0\n",
    "\n",
    "    for i in range(len(A[0])):\n",
    "        newA = np.delete(np.delete(A,0,axis=0),i,axis=1)\n",
    "        \n",
    "        cof = A[0][i] *((-1)**i) *det(newA)\n",
    "        \n",
    "        Det += cof\n",
    "\n",
    "    return Det\n",
    "A=[[7,5,1],[1,7,1],[5,5,7]]\n",
    "print(det(A))\n",
    "print(np.linalg.det(A))"
   ]
  },
  {
   "attachments": {},
   "cell_type": "markdown",
   "metadata": {},
   "source": [
    "The inverse of a Matrix is defined as : \n",
    "$$\n",
    "\\mathbf{A}^{-1}=\\frac{adj(A)}{det(A)}\n",
    "$$\n",
    "The adjugate of $\\mathbf{A} \\ adj(\\mathbf{A})$ is the transpose of $\\mathbf{C}$, that is, the n × n matrix whose (i, j) entry is the (j, i) cofactor of A,\n",
    "$$\n",
    "adj(\\mathbf{A})=\\mathbf{C}^T=\\left((-1)^{i+j}M_{ji}\\right)_{1 \\leq i,j \\leq n}\n",
    "$$\n",
    "> Write a function that takes a Matrix  as input and gives inverse of Matrix as output then use it to calculate the inverse of the  following Matrix :\n",
    "$$\n",
    "A = \\begin{bmatrix}\n",
    "    7 & 5 & 1\\\\\n",
    "    1 & 7 & 1\\\\\n",
    "    5 & 5 & 7\n",
    "\\end{bmatrix}\n",
    "$$\n",
    "> then use np.linalg.inv to check your answer "
   ]
  },
  {
   "cell_type": "code",
   "execution_count": 5,
   "metadata": {},
   "outputs": [
    {
     "name": "stdout",
     "output_type": "stream",
     "text": [
      "[[ 0.1641791   0.1119403  -0.00746269]\n",
      " [ 0.00746269  0.1641791   0.02238806]\n",
      " [-0.1119403   0.03731343  0.1641791 ]]\n",
      "[[ 0.1641791  -0.1119403  -0.00746269]\n",
      " [-0.00746269  0.1641791  -0.02238806]\n",
      " [-0.1119403  -0.03731343  0.1641791 ]]\n"
     ]
    }
   ],
   "source": [
    "# Code cell\n",
    "def inv(A):\n",
    "    detA=det(A)\n",
    "    n=len(A)\n",
    "    B=np.zeros((n,n))\n",
    "    for i in range(n):\n",
    "        for j in range(n):\n",
    "            newA = np.delete(np.delete(A,i,axis=0),j,axis=1)\n",
    "            B[i][j]=det(newA)\n",
    "\n",
    "            \n",
    "    return(B.T/detA)\n",
    "A=[[7,5,1],[1,7,1],[5,5,7]]\n",
    "print(inv(A))\n",
    "print(np.linalg.inv(A))"
   ]
  },
  {
   "cell_type": "markdown",
   "metadata": {},
   "source": [
    "## 2. Gauss-Jordan elimination\n",
    "#### 2-1-  Implementation\n",
    "The Gauss-Jordan Elimination method is an algorithm to solve a linear system of equations. This method solves the system by representing it as an augmented matrix, reducing it using row operations, and expressing the system in reduced row-echelon form to find the values of the variables. \\\n",
    "The function gauss_jordan_elimination takes two arguments: the matrix A representing the coefficients of the equations, and the vector b representing the constants on the right-hand side of the equations. It sets flag to 1 and returns the solution vector x if exists, else sets flag to 0 in case of 'No Solution' or 'Infinite Solutions' and prints the corresponding case.\n",
    "\n",
    "Here's an example of a system of equations $\\textbf{Ax = b}$\n",
    "\n",
    "the inputs of the function :\n",
    "\n",
    "$$\n",
    "A = \\begin{bmatrix}\n",
    "    2  & 1  & 5 \\\\\n",
    "    4  & 4  & -4 \\\\\n",
    "    1 & 3 & 1 \n",
    "\\end{bmatrix}\n",
    "$$\n",
    "\n",
    "$$\n",
    "b = \\begin{bmatrix}\n",
    "    8  \\\\\n",
    "    4  \\\\\n",
    "    5 \n",
    "\\end{bmatrix}\n",
    "$$\n",
    "\n",
    "the corresponding output :\n",
    "\n",
    "$$\n",
    "x = \\begin{bmatrix}\n",
    "    1  \\\\\n",
    "    1  \\\\\n",
    "    1 \n",
    "\\end{bmatrix}\n",
    "$$"
   ]
  },
  {
   "cell_type": "code",
   "execution_count": 10,
   "metadata": {},
   "outputs": [],
   "source": [
    "# import required packages\n",
    "import numpy as np\n",
    "import time"
   ]
  },
  {
   "cell_type": "code",
   "execution_count": 67,
   "metadata": {},
   "outputs": [],
   "source": [
    "# Code cell\n",
    "import numpy\n",
    "import math\n",
    "def gauss_jordan_elimination(A, b):\n",
    "    n= len(A)\n",
    "    B=A\n",
    "    b = b[:, np.newaxis]\n",
    "    A=np.concatenate((B,b),axis=1)\n",
    "    A=np.array(A,\"f\")\n",
    "    x=np.zeros(n)\n",
    "    flag=1\n",
    "    for i in range(n):\n",
    "        if abs(A[i][i])<1e-3:\n",
    "            for j in range(i+1, n):\n",
    "                if abs(A[j][i]) >1e-3:\n",
    "                    A[i], A[j] = A[j], A[i]\n",
    "                    break\n",
    "        if(abs(A[i][i]) <1e-3):\n",
    "             flag=0\n",
    "             return  x, flag\n",
    "        else:\n",
    "             pivot = A[i][i]\n",
    "             for j in range(i+1,n):\n",
    "                 mult=-A[j][i]/pivot\n",
    "                 for k in range(i,n+1):\n",
    "                     A[j][k]=A[j][k]+A[i][k]*mult\n",
    "    for i in range(n):\n",
    "        j=n-i-1\n",
    "        help=0\n",
    "        for k in range(j,n-1):\n",
    "            help+=A[j][k+1]*x[k+1]\n",
    "        x[j]=(A[j][n]-help)/A[j][j] \n",
    "    return  x, flag"
   ]
  },
  {
   "cell_type": "code",
   "execution_count": 68,
   "metadata": {},
   "outputs": [
    {
     "name": "stdout",
     "output_type": "stream",
     "text": [
      "status: successful, time elapsed: 0.0 seconds\n",
      "status: successful, time elapsed: 0.0 seconds\n"
     ]
    }
   ],
   "source": [
    "# Evaluation Cell\n",
    "n = 10\n",
    "A = np.zeros((10,10))\n",
    "b = np.random.randint(100, size=(10))\n",
    "while np.linalg.matrix_rank(A) != n: \n",
    "  A = np.random.randint(0,100,(n, n))\n",
    "s = time.time()\n",
    "elapsed = time.time() - s\n",
    "x, flag = gauss_jordan_elimination(A,b)\n",
    "assert flag == 1, \"flag's not set correctly\"\n",
    "assert np.linalg.norm(A @ x - b) < 1e-3, \"Ax = b is not satisfied\"\n",
    "print(f'status: successful, time elapsed: {np.round(elapsed, 5)} seconds')\n",
    "b = np.random.randint(100, size=(10))\n",
    "A = np.random.randint(0, 100, (n, n))\n",
    "U, S, V = np.linalg.svd(A)\n",
    "r = 9  \n",
    "S[r:] = 0 \n",
    "A = U.dot(np.diag(S)).dot(V)\n",
    "b = np.random.randint(100, size=(10))\n",
    "s = time.time()\n",
    "elapsed = time.time() - s\n",
    "x, flag = gauss_jordan_elimination(A,b)\n",
    "assert flag == 0, \"flag's not set correctly\"\n",
    "print(f'status: successful, time elapsed: {np.round(elapsed, 5)} seconds')"
   ]
  },
  {
   "cell_type": "markdown",
   "metadata": {},
   "source": [
    "## 3. Statistics on random matrices\n",
    "\n",
    "On average, a random matrix is invertible. But what if the random matrix has entries that are either 0 or 1 with equal probability? What is the probability that a 5 by 5 matrix whose entries are all zeros or ones is singular? And what is the average number of pivot columns? That is what you will find out in this exercise.\n",
    "\n",
    "Create random integer matrices whose entries are either 0 or 1. To find the number of pivot columns of a matrix A, complete the function getrank below.\n"
   ]
  },
  {
   "cell_type": "code",
   "execution_count": 35,
   "metadata": {},
   "outputs": [],
   "source": [
    "def getrank(A):\n",
    "    n = len(A)\n",
    "    rank = n\n",
    "    \n",
    "    for i in range(n):\n",
    "        if A[i][i] == 0:\n",
    "            for j in range(i+1, n):\n",
    "                if A[j][i] != 0:\n",
    "                    A[i], A[j] = A[j], A[i]\n",
    "                    break\n",
    "        if(A[i][i]==0):\n",
    "             rank-=1\n",
    "        else:\n",
    "             pivot = A[i][i]\n",
    "             for j in range(i+1,n):\n",
    "                 mult=-A[j][i]/pivot\n",
    "                 for k in range(i,n):\n",
    "                     A[j][k]+=A[i][k]*mult\n",
    "\n",
    "\n",
    "    return rank\n"
   ]
  },
  {
   "cell_type": "code",
   "execution_count": 73,
   "metadata": {},
   "outputs": [
    {
     "name": "stdout",
     "output_type": "stream",
     "text": [
      "n=5\n",
      "9585\n",
      "3\n",
      "0.96\n",
      "\n",
      "n=10\n",
      "9967\n",
      "8\n",
      "1.0\n"
     ]
    }
   ],
   "source": [
    "# Code cell\n",
    "num =10000 ;  # Number of random trials \n",
    "n = 5  # Size of matrix\n",
    "Pivots=0\n",
    "singular_matrix=0\n",
    "for i in range(num):\n",
    "    A=np.random.randint(0,2,(n,n))\n",
    "    pivot=getrank(A)\n",
    "    Pivots+=pivot\n",
    "    if(pivot!=n):\n",
    "        singular_matrix+=1\n",
    "avg_pivot=Pivots/num\n",
    "prob=singular_matrix/num\n",
    "print('n=5')\n",
    "print(singular_matrix)\n",
    "print(round(avg_pivot))\n",
    "print(round(prob,2))\n",
    "n = 10  # Size of matrix\n",
    "Pivots=0\n",
    "singular_matrix=0\n",
    "for i in range(num):\n",
    "    A=np.random.randint(0,2,(n,n))\n",
    "    pivot=getrank(A)\n",
    "    Pivots+=pivot\n",
    "    if(pivot!=n):\n",
    "        singular_matrix+=1\n",
    "avg_pivot=Pivots/num\n",
    "prob=singular_matrix/num\n",
    "print()\n",
    "print('n=10')\n",
    "print(singular_matrix)\n",
    "print(round(avg_pivot))\n",
    "print(round(prob,2))\n",
    "\n",
    "# (avg number of pivots, probability of being singular)\n",
    "# in the format [a.b,c.d] where you rounded the answer to one decimal place.\n",
    "\n",
    "# write your code here"
   ]
  },
  {
   "cell_type": "markdown",
   "metadata": {},
   "source": [
    "We've looked at random matrices whose entries are 0 or 1. But how does size effect the rank and the probability of being singular? Repeat the previous exercise for 10 by 10 matrices with entries that are 0 or 1.\n",
    "\n",
    "Explore and plot the probability of singularity and the average number of pivots for different sizes of random matrices. Can you determine how this probability depends on the size of the matrix? You might try to find the probability of a 10 by 10 random matrix with entries 0 or 1 has rank 10, 9, 8, 7 etc. You can check your probabilities against the expected value to see if your probabilities match your observations. You might try to connect these probabilities with determinant formulas to see if you can predict the numbers from other formulas and prove a relationship. Happy explorations!\n",
    "\n",
    " guess what happens as $n \\rightarrow \\infty $\n",
    ", but only run up to 80"
   ]
  },
  {
   "cell_type": "code",
   "execution_count": 108,
   "metadata": {},
   "outputs": [
    {
     "data": {
      "text/plain": [
       "<matplotlib.collections.PathCollection at 0x1d2bfbf29f0>"
      ]
     },
     "execution_count": 108,
     "metadata": {},
     "output_type": "execute_result"
    },
    {
     "data": {
      "image/png": "[encoded data removed]",
      "text/plain": [
       "<Figure size 640x480 with 1 Axes>"
      ]
     },
     "metadata": {},
     "output_type": "display_data"
    },
    {
     "data": {
      "image/png": "[encoded data removed]",
      "text/plain": [
       "<Figure size 640x480 with 1 Axes>"
      ]
     },
     "metadata": {},
     "output_type": "display_data"
    }
   ],
   "source": [
    "# Code cell\n",
    "import matplotlib.pyplot as plt\n",
    "\n",
    "nvalues = [5,10,20,40,80]\n",
    "num = 500\n",
    "\n",
    "ave_pivots=[0,0,0,0,0]\n",
    "singularity_prob=[0,0,0,0,0]\n",
    "j=0\n",
    "for n in nvalues :\n",
    "    Pivots=0\n",
    "    singular_matrix=0\n",
    "    for i in range(num):\n",
    "        A=np.random.randint(0,2,(n,n))\n",
    "        pivot=getrank(A)\n",
    "        Pivots+=pivot\n",
    "        if(pivot!=n):\n",
    "            singular_matrix+=1\n",
    "    avg_pivot=Pivots/num\n",
    "    prob=singular_matrix/num\n",
    "    ave_pivots[j]=avg_pivot\n",
    "    singularity_prob[j]=prob\n",
    "    j+=1\n",
    "plt.plot(nvalues,ave_pivots,marker='o')\n",
    "plt.figure()\n",
    "plt.scatter(nvalues,singularity_prob,marker='o')\n",
    "\n"
   ]
  },
  {
   "cell_type": "markdown",
   "metadata": {},
   "source": [
    "## 4. Application of Cholesky decomposition\n",
    "#### 4-1-  Cholesky decomposition\n",
    "In linear algebra, LU decomposition factors a matrix ($\\textbf{A} :n \\times n$) as the product of a lower triangular matrix ($\\textbf{L} :n \\times n$) and an upper triangular matrix ($\\textbf{U} :n \\times n$). The product sometimes includes a permutation matrix ($\\textbf{P} :n \\times n$) as well.\n",
    "$$ \\textbf{PA} = \\textbf{LU} $$\n",
    "We know that the elements on the main diagonal of the $\\textbf{U}$ are the pivots. So $\\textbf{U}$ can be decomposed into a diagonal matrix ($\\textbf{D} :n \\times n$) with elements whose pivots are on the main diagonal and a normalized $\\textbf{U}$ matrix.\n",
    "$$ \\textbf{PA} = \\textbf{LDU}  $$\n",
    "if the A is symmetric then we have the Cholesky decomposition :\n",
    "$$\n",
    "\\mathbf{A}^T=\\mathbf{A} \\longrightarrow \\mathbf{A} =LD^\\frac{1}{2}D^\\frac{1}{2} L^T= (LD^\\frac{1}{2})(LD^\\frac{1}{2})^T=L'{L'} ^T\n",
    "$$\n",
    "There are various methods for calculating the Cholesky decomposition one of them is $\\bold{Cholesky–Banachiewicz}$ algorithm :\n",
    "$$\n",
    "A=LL^T=\\begin{bmatrix}\n",
    "    L_{11}& 0 & 0\\\\\n",
    "    L_{21} & L_{22} & 0\\\\\n",
    "    L_{31}  & L_{32}  & L_{33} \n",
    "\\end{bmatrix}\\begin{bmatrix}\n",
    "    L_{11}  & L_{21}  & L_{31} \\\\\n",
    "    0  & L_{22}  & L_{32} \\\\\n",
    "    0 & 0 & L_{33} \n",
    "\\end{bmatrix}=\\begin{bmatrix}\n",
    "    L_{11}^2  &   & (symmetric) \\\\\n",
    "    L_{21}L_{11}  & L_{21}^2+L_{22}^2  &  \\\\\n",
    "    L_{31}L_{11}& L_{31}L_{21}+L_{32}L_{22}& L_{33}^2+L_{32}^2+L_{31}^2 \n",
    "\\end{bmatrix}\n",
    "$$\n",
    "\n",
    "and therefore the following formulas for the entries of L:\n",
    "\n",
    "$$\n",
    "L_{jj}=\\sqrt{A_{jj}-\\sum_{k=1}^{j-1}L_{jk}^2} \\\\\n",
    "\\\\\n",
    "L_{i,j}=\\frac{\\left(A_{ij}-\\sum_{k=1}^{j-1}L_{jk}L_{ik}\\right)}{L_{jj}} \\  \\ for \\ \\ i>j\n",
    "$$\n",
    "\n",
    "> Use this algorithm to write a function that takes a matrix and gives its cholesky decomposition. also print the output for the following matrix :\n",
    "$$\n",
    "\\mathbf{C}=\n",
    "\\begin{bmatrix}\n",
    "    1 & 0.7 \\\\\n",
    "    0.7 & 1\n",
    "\\end{bmatrix}\n",
    "$$ \n",
    "\n",
    "\n",
    "> then use np.linalg.cholesky to check your answer "
   ]
  },
  {
   "cell_type": "code",
   "execution_count": 75,
   "metadata": {},
   "outputs": [
    {
     "name": "stdout",
     "output_type": "stream",
     "text": [
      "[[1.         0.        ]\n",
      " [0.7        0.71414284]]\n",
      "[[1.         0.        ]\n",
      " [0.7        0.71414284]]\n"
     ]
    }
   ],
   "source": [
    "# Code cell\n",
    "def Cholesky(A):\n",
    "    n=len(A)\n",
    "    L= np.zeros((n,n))\n",
    "    L[0][0]=math.sqrt(A[0][0])\n",
    "    for i in range(n-1):\n",
    "        L[i+1][0]=A[i+1][0]/L[0][0]\n",
    "    for j in range(n-1):\n",
    "        f=j+1\n",
    "        t=0\n",
    "        for k in range(f):\n",
    "           t=t+L[f][k]**2 \n",
    "        L[f][f]=math.sqrt(A[f][f]-t)\n",
    "        for k in range(n-j-2):\n",
    "            t=0\n",
    "            for h in range(f):\n",
    "                t=t+L[f][h]*L[f+1][h]\n",
    "            print(j)\n",
    "            L[f+1+k][f]=(A[f+1+k][f]-t)/L[f][f]\n",
    "            \n",
    "    return L\n",
    "A=[[1,0.7],[0.7,1]]\n",
    "print(Cholesky(A))\n",
    "print(np.linalg.cholesky(A))"
   ]
  },
  {
   "cell_type": "markdown",
   "metadata": {},
   "source": [
    "#### 4-2-  Using Cholesky to generate correlated random numbers\n",
    "\n",
    "The co-variance Matrix of any random vector Y\n",
    " is given as $\\mathbf{E}(YY^T)$\n",
    ", where Y\n",
    " is a random column vector of size n×1\n",
    ". Now take a random vector, X\n",
    ", consisting of uncorrelated random variables with each random variable, $X_i$\n",
    ", having zero mean and unit variance 1\n",
    ". Since $X_i$\n",
    "'s are uncorrelated random variables with zero mean and unit variance, we have $\\mathbf{E}(X_i X_j^T)=δ_{ij}$\n",
    ". Hence,\n",
    "$$\n",
    "\\mathbf{E}(XX^T)=I\n",
    "$$\n",
    "To generate a random vector with a given covariance matrix $\\mathbf{C}$\n",
    ", look at the Cholesky decomposition of $C$\n",
    " i.e. $\\mathbf{C}=LL^T$\n",
    " \n",
    "Now look at the random vector $Z=LX$ :\n",
    "$$\n",
    "\\mathbf{E}(ZZ^T)=\\mathbf{E}\\left((LX)(LX)^T\\right)=L\\mathbf{E}(XX^T)L^T =LL^T=\\mathbf{C}\n",
    "$$\n",
    "Hence, the random vector $\\mathbf{Z}$\n",
    " has the desired co-variance matrix, $\\mathbf{C}$\n",
    "\n",
    " >Make the covarience matirx of $C$\n",
    "  $$\n",
    "\\mathbf{C}=\n",
    "\\begin{bmatrix}\n",
    "    1 & 0.7 \\\\\n",
    "    0.7 & 1\n",
    "\\end{bmatrix}\n",
    "$$ \n",
    "\n",
    " \n",
    " >Then we need another matrix with the desired standard deviation in the diagonal  $\\Tau$\n",
    " $$\n",
    "\\mathbf{\\Tau}=\n",
    "\\begin{bmatrix}\n",
    "    1 & 0 \\\\\n",
    "    0 & 2\n",
    "\\end{bmatrix}\n",
    "$$ \n",
    ">Then find the cholesky decomposition of $C$\n"
   ]
  },
  {
   "cell_type": "code",
   "execution_count": 76,
   "metadata": {},
   "outputs": [
    {
     "name": "stdout",
     "output_type": "stream",
     "text": [
      "[[1.         0.        ]\n",
      " [0.7        0.71414284]]\n"
     ]
    }
   ],
   "source": [
    "C=[[1,0.7],[0.7,1]]\n",
    "L=Cholesky(A)\n",
    "print(L)"
   ]
  },
  {
   "cell_type": "markdown",
   "metadata": {},
   "source": [
    ">Now  generate values for 2 independent random variables and put them in  2*1000 matrix $X$ (1000 samples)\n",
    "\n",
    "you can use np.random.normal ( generates iid random variables each time )"
   ]
  },
  {
   "cell_type": "code",
   "execution_count": 98,
   "metadata": {},
   "outputs": [
    {
     "name": "stdout",
     "output_type": "stream",
     "text": [
      "[[-0.25529177 -1.55260113 -0.02080763 ... -0.42041438  1.00639821\n",
      "  -2.24024472]\n",
      " [ 0.99277178  1.61530964  1.63103444 ...  0.77227657  1.64620076\n",
      "  -0.54243929]]\n"
     ]
    },
    {
     "name": "stderr",
     "output_type": "stream",
     "text": [
      "C:\\Users\\parsa nrz\\AppData\\Local\\Temp\\ipykernel_15324\\4262805440.py:6: DeprecationWarning: Conversion of an array with ndim > 0 to a scalar is deprecated, and will error in future. Ensure you extract a single element from your array before performing this operation. (Deprecated NumPy 1.25.)\n",
      "  X[i][j]=np.random.normal(0,1,1)\n"
     ]
    }
   ],
   "source": [
    "import numpy as np\n",
    "\n",
    "X=np.zeros((2,1000))\n",
    "for i in range(2):\n",
    "    for j in range(1000):\n",
    "        X[i][j]=np.random.normal(0,1,1)\n",
    "print(X)"
   ]
  },
  {
   "cell_type": "markdown",
   "metadata": {},
   "source": [
    ">then calculate $\\mathbf{Z}=\\Tau L X$ and then plot Z[1] in base of Z[0] and X[1] in base of X[0] "
   ]
  },
  {
   "cell_type": "code",
   "execution_count": 106,
   "metadata": {},
   "outputs": [
    {
     "data": {
      "text/plain": [
       "<matplotlib.collections.PathCollection at 0x1d2be7a71a0>"
      ]
     },
     "execution_count": 106,
     "metadata": {},
     "output_type": "execute_result"
    },
    {
     "data": {
      "image/png": "[encoded data removed]",
      "text/plain": [
       "<Figure size 640x480 with 1 Axes>"
      ]
     },
     "metadata": {},
     "output_type": "display_data"
    },
    {
     "data": {
      "image/png": "[encoded data removed]",
      "text/plain": [
       "<Figure size 640x480 with 1 Axes>"
      ]
     },
     "metadata": {},
     "output_type": "display_data"
    }
   ],
   "source": [
    "T=[[1,0],[0,2]]\n",
    "Z=np.matmul(T,np.matmul(L,X))\n",
    "plt.scatter(Z[0],Z[1])\n",
    "plt.figure()\n",
    "plt.scatter(X[0],X[1])"
   ]
  },
  {
   "cell_type": "markdown",
   "metadata": {},
   "source": [
    ">now  check the correlation in generated samples with using np.correlate"
   ]
  },
  {
   "cell_type": "code",
   "execution_count": 103,
   "metadata": {},
   "outputs": [
    {
     "name": "stdout",
     "output_type": "stream",
     "text": [
      "[1460.72019165]\n",
      "[14.65610145]\n"
     ]
    }
   ],
   "source": [
    "print(np.correlate(Z[0],Z[1]))\n",
    "print(np.correlate(X[0],X[1]))"
   ]
  },
  {
   "cell_type": "markdown",
   "metadata": {
    "jp-MarkdownHeadingCollapsed": true
   },
   "source": [
    "## 5. Graphs (bonus)\n",
    "\n",
    "I suggest running this question's code cells in google colab to install the $\\textbf{PyGSP}$ package by  simply running the following code cell"
   ]
  },
  {
   "cell_type": "code",
   "execution_count": null,
   "metadata": {},
   "outputs": [],
   "source": [
    "!pip install pygsp"
   ]
  },
  {
   "cell_type": "markdown",
   "metadata": {},
   "source": [
    "\n",
    "<!-- ![]( graph.png) -->\n",
    "<div style=\"text-align:center\">\n",
    "    <img src=\"graph.png\" alt=\"Image\" />\n",
    "</div> \n",
    "\n",
    "\n",
    "For the directed graph above the adjacency matrix is : \n",
    "$\n",
    "A = \\begin{bmatrix}\n",
    "    0  & 1  & 1 & 0\\\\\n",
    "    -1  & 0  & 1 & 1 \\\\\n",
    "    -1 & -1 & 0 & 1 \\\\\n",
    "    0  & -1  & -1 & 0\n",
    "\\end{bmatrix}\n",
    "$ \n",
    "\n",
    "If we change the nodes numbering, the properties of the graph don't change yet the adjacency matrix changes. \n"
   ]
  },
  {
   "cell_type": "code",
   "execution_count": 37,
   "metadata": {},
   "outputs": [
    {
     "ename": "ModuleNotFoundError",
     "evalue": "No module named 'pygsp'",
     "output_type": "error",
     "traceback": [
      "\u001b[1;31m---------------------------------------------------------------------------\u001b[0m",
      "\u001b[1;31mModuleNotFoundError\u001b[0m                       Traceback (most recent call last)",
      "\u001b[1;32mc:\\Users\\parsa nrz\\Downloads\\MMIE_CHW1\\CHW1\\CHW1.ipynb Cell 34\u001b[0m line \u001b[0;36m4\n\u001b[0;32m      <a href='vscode-notebook-cell:/c%3A/Users/parsa%20nrz/Downloads/MMIE_CHW1/CHW1/CHW1.ipynb#X45sZmlsZQ%3D%3D?line=1'>2</a>\u001b[0m \u001b[39mimport\u001b[39;00m \u001b[39mnumpy\u001b[39;00m \u001b[39mas\u001b[39;00m \u001b[39mnp\u001b[39;00m\n\u001b[0;32m      <a href='vscode-notebook-cell:/c%3A/Users/parsa%20nrz/Downloads/MMIE_CHW1/CHW1/CHW1.ipynb#X45sZmlsZQ%3D%3D?line=2'>3</a>\u001b[0m \u001b[39mimport\u001b[39;00m \u001b[39mmatplotlib\u001b[39;00m\u001b[39m.\u001b[39;00m\u001b[39mpyplot\u001b[39;00m \u001b[39mas\u001b[39;00m \u001b[39mplt\u001b[39;00m\n\u001b[1;32m----> <a href='vscode-notebook-cell:/c%3A/Users/parsa%20nrz/Downloads/MMIE_CHW1/CHW1/CHW1.ipynb#X45sZmlsZQ%3D%3D?line=3'>4</a>\u001b[0m \u001b[39mfrom\u001b[39;00m \u001b[39mpygsp\u001b[39;00m \u001b[39mimport\u001b[39;00m graphs, filters, plotting\n\u001b[0;32m      <a href='vscode-notebook-cell:/c%3A/Users/parsa%20nrz/Downloads/MMIE_CHW1/CHW1/CHW1.ipynb#X45sZmlsZQ%3D%3D?line=4'>5</a>\u001b[0m \u001b[39mimport\u001b[39;00m \u001b[39mcv2\u001b[39;00m\n",
      "\u001b[1;31mModuleNotFoundError\u001b[0m: No module named 'pygsp'"
     ]
    }
   ],
   "source": [
    "# import required packages\n",
    "import numpy as np\n",
    "import matplotlib.pyplot as plt\n",
    "from pygsp import graphs, filters, plotting\n",
    "import cv2\n",
    "\n"
   ]
  },
  {
   "cell_type": "markdown",
   "metadata": {},
   "source": [
    "\n",
    "#### 5-1-  Introduction to graphs \n",
    ">construct the permutation matrix $\\textbf{P}$ by modifying the Identity matrix. then use it to number the graph's nodes in reverse order"
   ]
  },
  {
   "cell_type": "code",
   "execution_count": null,
   "metadata": {},
   "outputs": [],
   "source": [
    "# Code cell\n",
    "\n",
    "A_modified = ..."
   ]
  },
  {
   "cell_type": "code",
   "execution_count": null,
   "metadata": {},
   "outputs": [],
   "source": [
    "# Evaluation Cell\n",
    "assert A_modified == np.matrix('0 -1 -1 0; 1 0 -1 -1; 1 1 0 -1; 0 1 1 0'), \"wrong!\""
   ]
  },
  {
   "cell_type": "markdown",
   "metadata": {
    "jp-MarkdownHeadingCollapsed": true
   },
   "source": [
    "#### 5-2-  Graph image processing  \n",
    "\n",
    "Inpainting is a classical signal processing problem where we wish to fill in the missing values in a\n",
    "partially observed signal. This is here done in the context of image processing for inferring missing pixel values in\n",
    "an image. The signal in the image is considered to be the image matrix flattened while the image is modeled as a 2D grid graph.\n",
    "Inpainting for an image can be formulated as below:\n",
    "\n",
    "$$(M + \\alpha L)x = y$$\n",
    "\n",
    "where y is a partially observed graph signal (with missing values being 0), and M is a diagonal matrix that satisfies:\n",
    " $$ M(i, i)=   \\left\\{\n",
    "\\begin{array}{ll}\n",
    "      1, & if & y(i) & is & observed, \\\\\n",
    "      0, & if & y(i) & is & not & observed, \\\\\n",
    "\\end{array} \n",
    "\\right.  $$\n",
    "\n",
    "The Equation tries to find an x that nearly matches the observed values in y, and at the same time\n",
    "being smooth on the graph (the image here). The regularisation parameter α controls the trade-off between the data fidelity term and the\n",
    "smoothness prior. The solution can therefore be considered as an inpainted version of the partially observed signal."
   ]
  },
  {
   "cell_type": "markdown",
   "metadata": {},
   "source": [
    ">Use the cv2 package to load a grayscale version of the cameraman image with a relatively low resolution, 64 by 64, then display the image using matplotlib.pyplot\n",
    "\n",
    "- do not forget to convert RGB to gray to reduce the 3 color channels to one"
   ]
  },
  {
   "cell_type": "code",
   "execution_count": null,
   "metadata": {},
   "outputs": [],
   "source": [
    "# Code cell"
   ]
  },
  {
   "cell_type": "markdown",
   "metadata": {},
   "source": [
    ">Now flatten the image matrix to get the signal\\\n",
    ">Then, construct the diagonal matrix M which has its diagonal 0 except for $p = 50%$ of its elements that are randomly set to 1\\\n",
    ">At last, apply the observasion matrix M to the signal and construct y "
   ]
  },
  {
   "cell_type": "code",
   "execution_count": null,
   "metadata": {},
   "outputs": [],
   "source": [
    "# Code cell"
   ]
  },
  {
   "cell_type": "code",
   "execution_count": null,
   "metadata": {},
   "outputs": [],
   "source": [
    "# do not edit this cell \n",
    "G = graphs.Grid2d(64,64)\n",
    "L = G.L"
   ]
  },
  {
   "cell_type": "markdown",
   "metadata": {},
   "source": [
    ">To get x, apply the $\\textbf{Cholesky decomposition}$ to ( $M+\\alpha L$ ) and then solve the stated equation applying np.linalg.inv() to the two terms multiplied by x ( note that L is given by the code cell above )\n",
    "- check the soloution with \"np.linalg.solve()\""
   ]
  },
  {
   "cell_type": "code",
   "execution_count": null,
   "metadata": {},
   "outputs": [],
   "source": [
    "# Code cell"
   ]
  },
  {
   "cell_type": "markdown",
   "metadata": {},
   "source": [
    ">For values of alpha 0.001 , 0.1 , 10 and p values 50 , 75 display the original, the damaged and the Inpainted image in subplots"
   ]
  },
  {
   "cell_type": "code",
   "execution_count": null,
   "metadata": {},
   "outputs": [],
   "source": [
    "# Code cell"
   ]
  }
 ],
 "metadata": {
  "colab": {
   "provenance": []
  },
  "kernelspec": {
   "display_name": "Python 3 (ipykernel)",
   "language": "python",
   "name": "python3"
  },
  "language_info": {
   "codemirror_mode": {
    "name": "ipython",
    "version": 3
   },
   "file_extension": ".py",
   "mimetype": "text/x-python",
   "name": "python",
   "nbconvert_exporter": "python",
   "pygments_lexer": "ipython3",
   "version": "3.12.0"
  },
  "vscode": {
   "interpreter": {
    "hash": "f34ad562ee5e5f62ef9841c26f94cc51f4fab373f7ae595a9a28fbeb58dbf4a3"
   }
  }
 },
 "nbformat": 4,
 "nbformat_minor": 4
}
